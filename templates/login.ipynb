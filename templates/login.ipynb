{
 "cells": [
  {
   "cell_type": "markdown",
   "metadata": {},
   "source": [
    "The `name` and `id` attributes in the `<input>` tag serve different purposes in HTML forms, and both are important for various reasons. Here’s a breakdown of how each is used:\n",
    "\n",
    "### `name` Attribute\n",
    "- **Purpose**: The `name` attribute is essential when submitting form data. It serves as the identifier for the input’s value within the form data sent to the server.\n",
    "- **Form Data**: When the form is submitted, the value of the input is sent as a key-value pair, where the `name` is the key. For example, if an input field has `name=\"username\"`, the data submitted might look like `username=JohnDoe`.\n",
    "- **Required for Form Submission**: Without a `name` attribute, an input field’s value will **not be submitted** as part of the form data.\n",
    "- **Server-Side Access**: The server-side code can access the submitted data by the `name` attribute (e.g., `request.POST['username']` in Django or Flask).\n",
    "\n",
    "### `id` Attribute\n",
    "- **Purpose**: The `id` attribute uniquely identifies an element within the HTML document, making it useful for **styling** with CSS or **manipulation** with JavaScript.\n",
    "- **Uniqueness Requirement**: Each `id` must be unique within a page, meaning no two elements should share the same `id`.\n",
    "- **Label Association**: The `id` is often used to associate a `<label>` with an input field via the `for` attribute, creating a link that allows clicking on the label to focus on the input.\n",
    "- **JavaScript Access**: The `id` makes it easy to access the element in JavaScript (e.g., `document.getElementById('username')`).\n",
    "\n",
    "### Example\n",
    "\n",
    "```html\n",
    "<form action=\"/submit\" method=\"post\">\n",
    "    <label for=\"username\">Username:</label>\n",
    "    <input type=\"text\" id=\"username\" name=\"username\">\n",
    "</form>\n",
    "```\n",
    "\n",
    "- **`name=\"username\"`**: Used to identify the input’s data when submitting the form.\n",
    "- **`id=\"username\"`**: Used to link the label to the input, apply unique styling, or interact with it in JavaScript.\n",
    "\n",
    "### Summary\n",
    "- **Use `name`** for form submission and server-side data handling.\n",
    "- **Use `id`** for unique identification, label linking, CSS styling, and JavaScript manipulation."
   ]
  },
  {
   "cell_type": "markdown",
   "metadata": {},
   "source": [
    "To center \"Hi\" in the viewport using percentage values, you can use **absolute positioning** combined with the `transform` property. Here's the exact CSS styling:\n",
    "\n",
    "```html\n",
    "<!DOCTYPE html>\n",
    "<html lang=\"en\">\n",
    "<head>\n",
    "  <meta charset=\"UTF-8\">\n",
    "  <meta name=\"viewport\" content=\"width=device-width, initial-scale=1.0\">\n",
    "  <style>\n",
    "    body {\n",
    "      margin: 0; /* Remove default margin */\n",
    "      height: 100%; /* Full viewport height */\n",
    "    }\n",
    "\n",
    "    div {\n",
    "      position: absolute; /* Position relative to the viewport */\n",
    "      top: 50%; /* Move 50% down from the top */\n",
    "      left: 50%; /* Move 50% right from the left */\n",
    "      transform: translate(-50%, -50%); /* Center align using translation */\n",
    "    }\n",
    "  </style>\n",
    "</head>\n",
    "<body>\n",
    "  <div>Hi</div>\n",
    "</body>\n",
    "</html>\n",
    "```\n",
    "\n",
    "### Explanation of the Percentage Usage:\n",
    "1. **`top: 50%; left: 50%;`**\n",
    "   - These properties position the element's top-left corner at the center of the screen (50% from the top and 50% from the left of the viewport).\n",
    "\n",
    "2. **`transform: translate(-50%, -50%);`**\n",
    "   - This shifts the element back by 50% of its own width and height, effectively centering it.\n",
    "\n",
    "This method ensures the text stays perfectly centered regardless of its size or content."
   ]
  },
  {
   "cell_type": "markdown",
   "metadata": {},
   "source": [
    "#Signin{ position: absolute; /* Position relative to the viewport */\n",
    "            top: 50%; /* Move 50% down from the top */\n",
    "            left: 50%; /* Move 50% right from the left */\n",
    "            transform: translate(-50%, -50%); /* Center align using translation */\n",
    "            transform: translate(-50%, -50%); /* Center align using translation */"
   ]
  }
 ],
 "metadata": {
  "language_info": {
   "name": "python"
  }
 },
 "nbformat": 4,
 "nbformat_minor": 2
}
